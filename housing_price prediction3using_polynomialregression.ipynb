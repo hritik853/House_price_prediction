{
 "cells": [
  {
   "cell_type": "code",
   "execution_count": 17,
   "metadata": {},
   "outputs": [],
   "source": [
    "# Import libraries necessary for this project\n",
    "import pandas as pd\n",
    "import sklearn as sk\n",
    "import matplotlib.pyplot as plt\n",
    "import seaborn as sns\n",
    "from sklearn.linear_model import LinearRegression \n",
    "from sklearn.metrics import r2_score\n",
    "import numpy as np\n",
    "from sklearn.preprocessing import PolynomialFeatures\n",
    "from sklearn.model_selection import train_test_split as tts\n",
    "\n",
    "%matplotlib inline"
   ]
  },
  {
   "cell_type": "code",
   "execution_count": 18,
   "metadata": {},
   "outputs": [
    {
     "data": {
      "text/html": [
       "<div>\n",
       "<style scoped>\n",
       "    .dataframe tbody tr th:only-of-type {\n",
       "        vertical-align: middle;\n",
       "    }\n",
       "\n",
       "    .dataframe tbody tr th {\n",
       "        vertical-align: top;\n",
       "    }\n",
       "\n",
       "    .dataframe thead th {\n",
       "        text-align: right;\n",
       "    }\n",
       "</style>\n",
       "<table border=\"1\" class=\"dataframe\">\n",
       "  <thead>\n",
       "    <tr style=\"text-align: right;\">\n",
       "      <th></th>\n",
       "      <th>id</th>\n",
       "      <th>price</th>\n",
       "      <th>sqft_living</th>\n",
       "      <th>bedrooms</th>\n",
       "      <th>bathrooms</th>\n",
       "      <th>year_built</th>\n",
       "      <th>zipcode</th>\n",
       "      <th>address</th>\n",
       "      <th>Latitude</th>\n",
       "      <th>Longitude</th>\n",
       "    </tr>\n",
       "  </thead>\n",
       "  <tbody>\n",
       "    <tr>\n",
       "      <th>0</th>\n",
       "      <td>1</td>\n",
       "      <td>1249000.0</td>\n",
       "      <td>6209.0</td>\n",
       "      <td>5</td>\n",
       "      <td>5.0</td>\n",
       "      <td>1986</td>\n",
       "      <td>80111</td>\n",
       "      <td>Centennial, CO 80111</td>\n",
       "      <td>39.616672</td>\n",
       "      <td>-104.874651</td>\n",
       "    </tr>\n",
       "    <tr>\n",
       "      <th>1</th>\n",
       "      <td>2</td>\n",
       "      <td>220000.0</td>\n",
       "      <td>1422.0</td>\n",
       "      <td>5</td>\n",
       "      <td>4.0</td>\n",
       "      <td>1986</td>\n",
       "      <td>80111</td>\n",
       "      <td>Centennial, CO 80111</td>\n",
       "      <td>39.616672</td>\n",
       "      <td>-104.874651</td>\n",
       "    </tr>\n",
       "    <tr>\n",
       "      <th>2</th>\n",
       "      <td>3</td>\n",
       "      <td>1250000.0</td>\n",
       "      <td>5614.0</td>\n",
       "      <td>2</td>\n",
       "      <td>3.0</td>\n",
       "      <td>1981</td>\n",
       "      <td>80111</td>\n",
       "      <td>Greenwood Village, CO 80111</td>\n",
       "      <td>39.616672</td>\n",
       "      <td>-104.874651</td>\n",
       "    </tr>\n",
       "    <tr>\n",
       "      <th>3</th>\n",
       "      <td>4</td>\n",
       "      <td>599900.0</td>\n",
       "      <td>2785.0</td>\n",
       "      <td>4</td>\n",
       "      <td>3.0</td>\n",
       "      <td>1982</td>\n",
       "      <td>80111</td>\n",
       "      <td>Englewood, CO 80111</td>\n",
       "      <td>39.616672</td>\n",
       "      <td>-104.874651</td>\n",
       "    </tr>\n",
       "    <tr>\n",
       "      <th>4</th>\n",
       "      <td>5</td>\n",
       "      <td>986950.0</td>\n",
       "      <td>3449.0</td>\n",
       "      <td>6</td>\n",
       "      <td>4.0</td>\n",
       "      <td>2019</td>\n",
       "      <td>80111</td>\n",
       "      <td>Centennial, CO 80111</td>\n",
       "      <td>39.616672</td>\n",
       "      <td>-104.874651</td>\n",
       "    </tr>\n",
       "    <tr>\n",
       "      <th>5</th>\n",
       "      <td>6</td>\n",
       "      <td>182500.0</td>\n",
       "      <td>709.0</td>\n",
       "      <td>1</td>\n",
       "      <td>1.0</td>\n",
       "      <td>1979</td>\n",
       "      <td>80111</td>\n",
       "      <td>Englewood, CO 80111</td>\n",
       "      <td>39.616672</td>\n",
       "      <td>-104.874651</td>\n",
       "    </tr>\n",
       "    <tr>\n",
       "      <th>6</th>\n",
       "      <td>7</td>\n",
       "      <td>222500.0</td>\n",
       "      <td>658.0</td>\n",
       "      <td>1</td>\n",
       "      <td>1.0</td>\n",
       "      <td>1987</td>\n",
       "      <td>80111</td>\n",
       "      <td>Englewood, CO 80111</td>\n",
       "      <td>39.616672</td>\n",
       "      <td>-104.874651</td>\n",
       "    </tr>\n",
       "    <tr>\n",
       "      <th>7</th>\n",
       "      <td>8</td>\n",
       "      <td>599900.0</td>\n",
       "      <td>2952.0</td>\n",
       "      <td>4</td>\n",
       "      <td>3.0</td>\n",
       "      <td>1976</td>\n",
       "      <td>80111</td>\n",
       "      <td>Centennial, CO 80111</td>\n",
       "      <td>39.616672</td>\n",
       "      <td>-104.874651</td>\n",
       "    </tr>\n",
       "    <tr>\n",
       "      <th>8</th>\n",
       "      <td>9</td>\n",
       "      <td>795000.0</td>\n",
       "      <td>3715.0</td>\n",
       "      <td>4</td>\n",
       "      <td>3.0</td>\n",
       "      <td>1979</td>\n",
       "      <td>80111</td>\n",
       "      <td>Greenwood Village, CO 80111</td>\n",
       "      <td>39.616672</td>\n",
       "      <td>-104.874651</td>\n",
       "    </tr>\n",
       "    <tr>\n",
       "      <th>9</th>\n",
       "      <td>10</td>\n",
       "      <td>1150000.0</td>\n",
       "      <td>3502.0</td>\n",
       "      <td>4</td>\n",
       "      <td>3.0</td>\n",
       "      <td>1960</td>\n",
       "      <td>80111</td>\n",
       "      <td>Greenwood Village, CO 80111</td>\n",
       "      <td>39.616672</td>\n",
       "      <td>-104.874651</td>\n",
       "    </tr>\n",
       "  </tbody>\n",
       "</table>\n",
       "</div>"
      ],
      "text/plain": [
       "   id      price  sqft_living  bedrooms  bathrooms  year_built  zipcode  \\\n",
       "0   1  1249000.0       6209.0         5        5.0        1986    80111   \n",
       "1   2   220000.0       1422.0         5        4.0        1986    80111   \n",
       "2   3  1250000.0       5614.0         2        3.0        1981    80111   \n",
       "3   4   599900.0       2785.0         4        3.0        1982    80111   \n",
       "4   5   986950.0       3449.0         6        4.0        2019    80111   \n",
       "5   6   182500.0        709.0         1        1.0        1979    80111   \n",
       "6   7   222500.0        658.0         1        1.0        1987    80111   \n",
       "7   8   599900.0       2952.0         4        3.0        1976    80111   \n",
       "8   9   795000.0       3715.0         4        3.0        1979    80111   \n",
       "9  10  1150000.0       3502.0         4        3.0        1960    80111   \n",
       "\n",
       "                       address   Latitude   Longitude  \n",
       "0         Centennial, CO 80111  39.616672 -104.874651  \n",
       "1         Centennial, CO 80111  39.616672 -104.874651  \n",
       "2  Greenwood Village, CO 80111  39.616672 -104.874651  \n",
       "3          Englewood, CO 80111  39.616672 -104.874651  \n",
       "4         Centennial, CO 80111  39.616672 -104.874651  \n",
       "5          Englewood, CO 80111  39.616672 -104.874651  \n",
       "6          Englewood, CO 80111  39.616672 -104.874651  \n",
       "7         Centennial, CO 80111  39.616672 -104.874651  \n",
       "8  Greenwood Village, CO 80111  39.616672 -104.874651  \n",
       "9  Greenwood Village, CO 80111  39.616672 -104.874651  "
      ]
     },
     "execution_count": 18,
     "metadata": {},
     "output_type": "execute_result"
    }
   ],
   "source": [
    "data = pd.read_csv('housingdata_1.csv')\n",
    "\n",
    "price = data['price']\n",
    "data.head(10)"
   ]
  },
  {
   "cell_type": "code",
   "execution_count": 19,
   "metadata": {},
   "outputs": [
    {
     "data": {
      "text/html": [
       "<div>\n",
       "<style scoped>\n",
       "    .dataframe tbody tr th:only-of-type {\n",
       "        vertical-align: middle;\n",
       "    }\n",
       "\n",
       "    .dataframe tbody tr th {\n",
       "        vertical-align: top;\n",
       "    }\n",
       "\n",
       "    .dataframe thead th {\n",
       "        text-align: right;\n",
       "    }\n",
       "</style>\n",
       "<table border=\"1\" class=\"dataframe\">\n",
       "  <thead>\n",
       "    <tr style=\"text-align: right;\">\n",
       "      <th></th>\n",
       "      <th>id</th>\n",
       "      <th>price</th>\n",
       "      <th>sqft_living</th>\n",
       "      <th>bedrooms</th>\n",
       "      <th>bathrooms</th>\n",
       "      <th>year_built</th>\n",
       "      <th>zipcode</th>\n",
       "      <th>address</th>\n",
       "      <th>Latitude</th>\n",
       "      <th>Longitude</th>\n",
       "    </tr>\n",
       "  </thead>\n",
       "  <tbody>\n",
       "    <tr>\n",
       "      <th>58</th>\n",
       "      <td>59</td>\n",
       "      <td>1124950.0</td>\n",
       "      <td>3258.0</td>\n",
       "      <td>3</td>\n",
       "      <td>2.0</td>\n",
       "      <td>2019</td>\n",
       "      <td>80111</td>\n",
       "      <td>Centennial, CO 80111</td>\n",
       "      <td>39.616672</td>\n",
       "      <td>-104.874651</td>\n",
       "    </tr>\n",
       "    <tr>\n",
       "      <th>59</th>\n",
       "      <td>60</td>\n",
       "      <td>875000.0</td>\n",
       "      <td>3307.0</td>\n",
       "      <td>5</td>\n",
       "      <td>5.0</td>\n",
       "      <td>1994</td>\n",
       "      <td>80111</td>\n",
       "      <td>Englewood, CO 80111</td>\n",
       "      <td>39.616672</td>\n",
       "      <td>-104.874651</td>\n",
       "    </tr>\n",
       "    <tr>\n",
       "      <th>60</th>\n",
       "      <td>61</td>\n",
       "      <td>850000.0</td>\n",
       "      <td>4147.0</td>\n",
       "      <td>3</td>\n",
       "      <td>3.0</td>\n",
       "      <td>1994</td>\n",
       "      <td>80111</td>\n",
       "      <td>Englewood, CO 80111</td>\n",
       "      <td>39.616672</td>\n",
       "      <td>-104.874651</td>\n",
       "    </tr>\n",
       "    <tr>\n",
       "      <th>61</th>\n",
       "      <td>62</td>\n",
       "      <td>1470000.0</td>\n",
       "      <td>5292.0</td>\n",
       "      <td>5</td>\n",
       "      <td>4.0</td>\n",
       "      <td>1981</td>\n",
       "      <td>80111</td>\n",
       "      <td>Greenwood Village, CO 80111</td>\n",
       "      <td>39.616672</td>\n",
       "      <td>-104.874651</td>\n",
       "    </tr>\n",
       "    <tr>\n",
       "      <th>62</th>\n",
       "      <td>63</td>\n",
       "      <td>661559.0</td>\n",
       "      <td>3049.0</td>\n",
       "      <td>4</td>\n",
       "      <td>4.0</td>\n",
       "      <td>2018</td>\n",
       "      <td>80111</td>\n",
       "      <td>Centennial, CO 80111</td>\n",
       "      <td>39.616672</td>\n",
       "      <td>-104.874651</td>\n",
       "    </tr>\n",
       "    <tr>\n",
       "      <th>63</th>\n",
       "      <td>64</td>\n",
       "      <td>715000.0</td>\n",
       "      <td>3593.0</td>\n",
       "      <td>5</td>\n",
       "      <td>3.0</td>\n",
       "      <td>1977</td>\n",
       "      <td>80111</td>\n",
       "      <td>Greenwood Village, CO 80111</td>\n",
       "      <td>39.616672</td>\n",
       "      <td>-104.874651</td>\n",
       "    </tr>\n",
       "    <tr>\n",
       "      <th>64</th>\n",
       "      <td>65</td>\n",
       "      <td>524900.0</td>\n",
       "      <td>2334.0</td>\n",
       "      <td>4</td>\n",
       "      <td>3.0</td>\n",
       "      <td>1978</td>\n",
       "      <td>80111</td>\n",
       "      <td>Englewood, CO 80111</td>\n",
       "      <td>39.616672</td>\n",
       "      <td>-104.874651</td>\n",
       "    </tr>\n",
       "    <tr>\n",
       "      <th>65</th>\n",
       "      <td>66</td>\n",
       "      <td>677544.0</td>\n",
       "      <td>2641.0</td>\n",
       "      <td>4</td>\n",
       "      <td>3.5</td>\n",
       "      <td>1978</td>\n",
       "      <td>80111</td>\n",
       "      <td>Englewood, CO 80111</td>\n",
       "      <td>39.616672</td>\n",
       "      <td>-104.874651</td>\n",
       "    </tr>\n",
       "  </tbody>\n",
       "</table>\n",
       "</div>"
      ],
      "text/plain": [
       "    id      price  sqft_living  bedrooms  bathrooms  year_built  zipcode  \\\n",
       "58  59  1124950.0       3258.0         3        2.0        2019    80111   \n",
       "59  60   875000.0       3307.0         5        5.0        1994    80111   \n",
       "60  61   850000.0       4147.0         3        3.0        1994    80111   \n",
       "61  62  1470000.0       5292.0         5        4.0        1981    80111   \n",
       "62  63   661559.0       3049.0         4        4.0        2018    80111   \n",
       "63  64   715000.0       3593.0         5        3.0        1977    80111   \n",
       "64  65   524900.0       2334.0         4        3.0        1978    80111   \n",
       "65  66   677544.0       2641.0         4        3.5        1978    80111   \n",
       "\n",
       "                        address   Latitude   Longitude  \n",
       "58         Centennial, CO 80111  39.616672 -104.874651  \n",
       "59          Englewood, CO 80111  39.616672 -104.874651  \n",
       "60          Englewood, CO 80111  39.616672 -104.874651  \n",
       "61  Greenwood Village, CO 80111  39.616672 -104.874651  \n",
       "62         Centennial, CO 80111  39.616672 -104.874651  \n",
       "63  Greenwood Village, CO 80111  39.616672 -104.874651  \n",
       "64          Englewood, CO 80111  39.616672 -104.874651  \n",
       "65          Englewood, CO 80111  39.616672 -104.874651  "
      ]
     },
     "execution_count": 19,
     "metadata": {},
     "output_type": "execute_result"
    }
   ],
   "source": [
    "data.tail(8)"
   ]
  },
  {
   "cell_type": "code",
   "execution_count": 20,
   "metadata": {},
   "outputs": [
    {
     "data": {
      "text/plain": [
       "(66, 10)"
      ]
     },
     "execution_count": 20,
     "metadata": {},
     "output_type": "execute_result"
    }
   ],
   "source": [
    "data.shape"
   ]
  },
  {
   "cell_type": "code",
   "execution_count": 21,
   "metadata": {},
   "outputs": [
    {
     "name": "stdout",
     "output_type": "stream",
     "text": [
      "<class 'pandas.core.frame.DataFrame'>\n",
      "RangeIndex: 66 entries, 0 to 65\n",
      "Data columns (total 10 columns):\n",
      "id             66 non-null int64\n",
      "price          66 non-null float64\n",
      "sqft_living    66 non-null float64\n",
      "bedrooms       66 non-null int64\n",
      "bathrooms      66 non-null float64\n",
      "year_built     66 non-null int64\n",
      "zipcode        66 non-null int64\n",
      "address        66 non-null object\n",
      "Latitude       66 non-null float64\n",
      "Longitude      66 non-null float64\n",
      "dtypes: float64(5), int64(4), object(1)\n",
      "memory usage: 5.2+ KB\n"
     ]
    }
   ],
   "source": [
    "data.info()"
   ]
  },
  {
   "cell_type": "code",
   "execution_count": 22,
   "metadata": {},
   "outputs": [
    {
     "data": {
      "text/plain": [
       "Index(['id', 'price', 'sqft_living', 'bedrooms', 'bathrooms', 'year_built',\n",
       "       'zipcode', 'address', 'Latitude', 'Longitude'],\n",
       "      dtype='object')"
      ]
     },
     "execution_count": 22,
     "metadata": {},
     "output_type": "execute_result"
    }
   ],
   "source": [
    "data.columns"
   ]
  },
  {
   "cell_type": "code",
   "execution_count": 23,
   "metadata": {},
   "outputs": [
    {
     "name": "stdout",
     "output_type": "stream",
     "text": [
      "Statistics for housing dataset:\n",
      "\n",
      "Minimum price: rs 182500.0\n",
      "Maximum price: rs 1910991.0\n",
      "Mean price: rs 804979.696969697\n",
      "Median price rs 766534.5\n",
      "Standard deviation of prices: rs 388597.83459065296\n"
     ]
    }
   ],
   "source": [
    "# Minimum price of the data\n",
    "minimum_price = np.amin(price)\n",
    "\n",
    "# Maximum price of the data\n",
    "maximum_price = np.amax(price)\n",
    "\n",
    "# Mean price of the data\n",
    "mean_price = np.mean(price)\n",
    "\n",
    "# Median price of the data\n",
    "median_price = np.median(price)\n",
    "\n",
    "# Standard deviation of prices of the data\n",
    "std_price = np.std(price)\n",
    "\n",
    "# Show the calculated statistics\n",
    "print(\"Statistics for housing dataset:\\n\")\n",
    "print(\"Minimum price: rs {}\".format(minimum_price)) \n",
    "print(\"Maximum price: rs {}\".format(maximum_price))\n",
    "print(\"Mean price: rs {}\".format(mean_price))\n",
    "print(\"Median price rs {}\".format(median_price))\n",
    "print(\"Standard deviation of prices: rs {}\".format(std_price))"
   ]
  },
  {
   "cell_type": "code",
   "execution_count": 24,
   "metadata": {},
   "outputs": [
    {
     "data": {
      "image/png": "[encoded data removed]",
      "text/plain": [
       "<Figure size 576x576 with 1 Axes>"
      ]
     },
     "metadata": {
      "needs_background": "light"
     },
     "output_type": "display_data"
    }
   ],
   "source": [
    "plt.figure(figsize=(8,8 ))\n",
    "plt.scatter(x=data['price'],y=data['sqft_living'])\n",
    "plt.title('price vs sqft_living')\n",
    "plt.xlabel('price')\n",
    "plt.ylabel('sqft_living_area')\n",
    "plt.show()"
   ]
  },
  {
   "cell_type": "code",
   "execution_count": 25,
   "metadata": {},
   "outputs": [
    {
     "data": {
      "image/png": "[encoded data removed]",
      "text/plain": [
       "<Figure size 576x576 with 1 Axes>"
      ]
     },
     "metadata": {
      "needs_background": "light"
     },
     "output_type": "display_data"
    }
   ],
   "source": [
    "plt.figure(figsize=(8, 8))\n",
    "plt.scatter(x=data['price'],y=data['year_built'])\n",
    "plt.title('price vs year_built')\n",
    "plt.xlabel('price',fontsize=15)\n",
    "plt.ylabel('year_built',fontsize=15)\n",
    "plt.show()"
   ]
  },
  {
   "cell_type": "code",
   "execution_count": 26,
   "metadata": {},
   "outputs": [
    {
     "data": {
      "image/png": "[encoded data removed]",
      "text/plain": [
       "<Figure size 576x576 with 1 Axes>"
      ]
     },
     "metadata": {
      "needs_background": "light"
     },
     "output_type": "display_data"
    }
   ],
   "source": [
    "plt.figure(figsize=(8,8 ))\n",
    "plt.scatter(x=data['price'],y=data['bedrooms'])\n",
    "plt.title('price vs Bedroom')\n",
    "plt.xlabel('price',fontsize=15)\n",
    "plt.ylabel('bedrooms',fontsize=15)\n",
    "plt.show()"
   ]
  },
  {
   "cell_type": "code",
   "execution_count": 27,
   "metadata": {},
   "outputs": [
    {
     "data": {
      "image/png": "[encoded data removed]",
      "text/plain": [
       "<Figure size 576x576 with 1 Axes>"
      ]
     },
     "metadata": {
      "needs_background": "light"
     },
     "output_type": "display_data"
    }
   ],
   "source": [
    "plt.figure(figsize=(8,8))\n",
    "plt.scatter(x=data['price'],y=data['bathrooms'])\n",
    "plt.title('price vs bathroom')\n",
    "plt.ylabel('bathroom',fontsize=12)\n",
    "plt.xlabel('price',fontsize=12)\n",
    "plt.show()"
   ]
  },
  {
   "cell_type": "code",
   "execution_count": 28,
   "metadata": {},
   "outputs": [],
   "source": [
    "#features are\n",
    "fet=[ 'sqft_living', 'bedrooms', 'bathrooms', 'year_built',\n",
    "       'zipcode', 'Latitude', 'Longitude']\n",
    "\n",
    "x=data[fet]\n",
    "y=data['price']"
   ]
  },
  {
   "cell_type": "code",
   "execution_count": 29,
   "metadata": {},
   "outputs": [
    {
     "data": {
      "text/plain": [
       "<matplotlib.axes._subplots.AxesSubplot at 0x1a6337a1ba8>"
      ]
     },
     "execution_count": 29,
     "metadata": {},
     "output_type": "execute_result"
    },
    {
     "data": {
      "image/png": "[encoded data removed]",
      "text/plain": [
       "<Figure size 432x288 with 1 Axes>"
      ]
     },
     "metadata": {
      "needs_background": "light"
     },
     "output_type": "display_data"
    }
   ],
   "source": [
    "plt.title(\"bedrooms\")\n",
    "data['bedrooms'].hist()"
   ]
  },
  {
   "cell_type": "code",
   "execution_count": 40,
   "metadata": {},
   "outputs": [
    {
     "data": {
      "text/plain": [
       "<matplotlib.axes._subplots.AxesSubplot at 0x1a6338875f8>"
      ]
     },
     "execution_count": 40,
     "metadata": {},
     "output_type": "execute_result"
    },
    {
     "data": {
      "image/png": "[encoded data removed]",
      "text/plain": [
       "<Figure size 432x288 with 1 Axes>"
      ]
     },
     "metadata": {
      "needs_background": "light"
     },
     "output_type": "display_data"
    }
   ],
   "source": [
    "plt.title(\"bathrooms\")\n",
    "data['bathrooms'].hist()"
   ]
  },
  {
   "cell_type": "code",
   "execution_count": 41,
   "metadata": {},
   "outputs": [
    {
     "data": {
      "text/plain": [
       "<matplotlib.axes._subplots.AxesSubplot at 0x1a63399eba8>"
      ]
     },
     "execution_count": 41,
     "metadata": {},
     "output_type": "execute_result"
    },
    {
     "data": {
      "image/png": "[encoded data removed]",
      "text/plain": [
       "<Figure size 432x288 with 1 Axes>"
      ]
     },
     "metadata": {
      "needs_background": "light"
     },
     "output_type": "display_data"
    }
   ],
   "source": [
    "plt.title(\"sqft_living\")\n",
    "data['sqft_living'].hist()\n"
   ]
  },
  {
   "cell_type": "code",
   "execution_count": 42,
   "metadata": {},
   "outputs": [
    {
     "data": {
      "text/plain": [
       "<matplotlib.axes._subplots.AxesSubplot at 0x1a633a1cc88>"
      ]
     },
     "execution_count": 42,
     "metadata": {},
     "output_type": "execute_result"
    },
    {
     "data": {
      "image/png": "[encoded data removed]",
      "text/plain": [
       "<Figure size 432x288 with 1 Axes>"
      ]
     },
     "metadata": {
      "needs_background": "light"
     },
     "output_type": "display_data"
    }
   ],
   "source": [
    "plt.title(\"year_built\")\n",
    "data['year_built'].hist()"
   ]
  },
  {
   "cell_type": "code",
   "execution_count": 43,
   "metadata": {},
   "outputs": [
    {
     "data": {
      "text/plain": [
       "<matplotlib.axes._subplots.AxesSubplot at 0x1a633a45160>"
      ]
     },
     "execution_count": 43,
     "metadata": {},
     "output_type": "execute_result"
    },
    {
     "data": {
      "image/png": "[encoded data removed]",
      "text/plain": [
       "<Figure size 432x288 with 1 Axes>"
      ]
     },
     "metadata": {
      "needs_background": "light"
     },
     "output_type": "display_data"
    }
   ],
   "source": [
    "plt.title(\"latitude\")\n",
    "data['Latitude'].hist()"
   ]
  },
  {
   "cell_type": "code",
   "execution_count": 44,
   "metadata": {},
   "outputs": [
    {
     "data": {
      "text/plain": [
       "<matplotlib.axes._subplots.AxesSubplot at 0x1a633b00860>"
      ]
     },
     "execution_count": 44,
     "metadata": {},
     "output_type": "execute_result"
    },
    {
     "data": {
      "image/png": "[encoded data removed]",
      "text/plain": [
       "<Figure size 432x288 with 1 Axes>"
      ]
     },
     "metadata": {
      "needs_background": "light"
     },
     "output_type": "display_data"
    }
   ],
   "source": [
    "plt.title(\"longitude\")\n",
    "data['Longitude'].hist()"
   ]
  },
  {
   "cell_type": "code",
   "execution_count": 30,
   "metadata": {},
   "outputs": [
    {
     "name": "stdout",
     "output_type": "stream",
     "text": [
      "(59, 7)\n",
      "(7, 7)\n",
      "(59,)\n",
      "(7,)\n"
     ]
    }
   ],
   "source": [
    "X_train, X_test, Y_train, Y_test = tts(x, y, test_size = 0.1, random_state = 5)\n",
    "print(X_train.shape)\n",
    "print(X_test.shape)\n",
    "print(Y_train.shape)\n",
    "print(Y_test.shape)"
   ]
  },
  {
   "cell_type": "code",
   "execution_count": 33,
   "metadata": {},
   "outputs": [
    {
     "data": {
      "text/plain": [
       "PolynomialFeatures(degree=2, include_bias=True, interaction_only=False,\n",
       "                   order='C')"
      ]
     },
     "execution_count": 33,
     "metadata": {},
     "output_type": "execute_result"
    }
   ],
   "source": [
    "# Fitting Polynomial Regression to the dataset \n",
    "\n",
    "\n",
    "poly = PolynomialFeatures(degree = 2) \n",
    "X_train_poly = poly.fit_transform(X_train) \n",
    "\n",
    "poly.fit(X_train_poly,Y_train) \n",
    " \n"
   ]
  },
  {
   "cell_type": "code",
   "execution_count": 34,
   "metadata": {},
   "outputs": [
    {
     "data": {
      "text/plain": [
       "LinearRegression(copy_X=True, fit_intercept=True, n_jobs=None, normalize=False)"
      ]
     },
     "execution_count": 34,
     "metadata": {},
     "output_type": "execute_result"
    }
   ],
   "source": [
    "poly_model = LinearRegression()\n",
    "poly_model.fit(X_train_poly, Y_train)"
   ]
  },
  {
   "cell_type": "code",
   "execution_count": 35,
   "metadata": {},
   "outputs": [],
   "source": [
    "# predicting on training data-set\n",
    "y_train_predicted = poly_model.predict(X_train_poly)"
   ]
  },
  {
   "cell_type": "code",
   "execution_count": 36,
   "metadata": {},
   "outputs": [],
   "source": [
    " # predicting on test data-set\n",
    "y_test_predict = poly_model.predict(poly.fit_transform(X_test))"
   ]
  },
  {
   "cell_type": "code",
   "execution_count": 37,
   "metadata": {},
   "outputs": [
    {
     "name": "stdout",
     "output_type": "stream",
     "text": [
      "Accuracy is 51 %\n"
     ]
    }
   ],
   "source": [
    "r2_test = r2_score(Y_test, y_test_predict)\n",
    "print(\"Accuracy is {} %\".format(int(r2_test*100)))"
   ]
  }
 ],
 "metadata": {
  "kernelspec": {
   "display_name": "Python 3",
   "language": "python",
   "name": "python3"
  },
  "language_info": {
   "codemirror_mode": {
    "name": "ipython",
    "version": 3
   },
   "file_extension": ".py",
   "mimetype": "text/x-python",
   "name": "python",
   "nbconvert_exporter": "python",
   "pygments_lexer": "ipython3",
   "version": "3.7.3"
  }
 },
 "nbformat": 4,
 "nbformat_minor": 2
}
